{
  "nbformat": 4,
  "nbformat_minor": 0,
  "metadata": {
    "colab": {
      "name": "Flowers_Recognition_using_CNN_and_KERAS_model.ipynb.ipynp",
      "provenance": [],
      "collapsed_sections": []
    },
    "kernelspec": {
      "name": "python3",
      "display_name": "Python 3"
    },
    "language_info": {
      "name": "python"
    },
    "accelerator": "GPU"
  },
  "cells": [
    {
      "cell_type": "code",
      "metadata": {
        "id": "KnreXonTh52Z",
        "colab": {
          "base_uri": "https://localhost:8080/"
        },
        "outputId": "e2a6d650-54d3-40d8-9b64-30aa01afa7ee"
      },
      "source": [
        "from google.colab import drive \n",
        "drive.mount('/content/drive/')"
      ],
      "execution_count": null,
      "outputs": [
        {
          "output_type": "stream",
          "text": [
            "Drive already mounted at /content/drive/; to attempt to forcibly remount, call drive.mount(\"/content/drive/\", force_remount=True).\n"
          ],
          "name": "stdout"
        }
      ]
    },
    {
      "cell_type": "code",
      "metadata": {
        "id": "fEpF9AyPihC9"
      },
      "source": [
        "import numpy as np\n",
        "import matplotlib.pyplot as plt\n",
        "import os \n",
        "import cv2\n"
      ],
      "execution_count": null,
      "outputs": []
    },
    {
      "cell_type": "code",
      "metadata": {
        "id": "eCGziY3fixFw"
      },
      "source": [
        "DATADIR ='/content/drive/MyDrive/flowers'\n",
        "CATAGORIES = ['daisy' , 'dandelion' , 'rose' , 'sunflower' , 'tulip'] \n",
        "\n"
      ],
      "execution_count": null,
      "outputs": []
    },
    {
      "cell_type": "code",
      "metadata": {
        "id": "cs7T8sM5mtsK"
      },
      "source": [
        "training_data = []\n",
        "IMAGE_SIZE = 150\n",
        "def create_training_data():\n",
        "  for category in CATAGORIES:\n",
        "    path  = os.path.join(DATADIR , category) # path to daisy , dandeltion , rose , sunflower , tulip\n",
        "    class_num = CATAGORIES.index(category)\n",
        "\n",
        "    for img in  os.listdir(path):\n",
        "      try :\n",
        "        img_array = cv2.imread(os.path.join(path , img) , cv2.IMREAD_GRAYSCALE)\n",
        "        new_array = cv2.resize(img_array , (IMAGE_SIZE , IMAGE_SIZE))\n",
        "        training_data.append([new_array , class_num])\n",
        "      except Exception as e:\n",
        "        pass\n",
        "create_training_data()"
      ],
      "execution_count": null,
      "outputs": []
    },
    {
      "cell_type": "code",
      "metadata": {
        "id": "LLX_8kI2pNVl",
        "colab": {
          "base_uri": "https://localhost:8080/"
        },
        "outputId": "368fa175-5707-40a8-d5e8-dc13b551d445"
      },
      "source": [
        "print(training_data[0])"
      ],
      "execution_count": null,
      "outputs": [
        {
          "output_type": "stream",
          "text": [
            "[array([[129, 124, 114, ..., 170, 166, 149],\n",
            "       [124, 108,  96, ..., 135, 151, 136],\n",
            "       [109,  96,  82, ..., 129, 125, 124],\n",
            "       ...,\n",
            "       [ 20,  20,  19, ...,  39,  36,  38],\n",
            "       [ 19,  18,  19, ...,  38,  40,  40],\n",
            "       [ 17,  16,  19, ...,  38,  39,  37]], dtype=uint8), 0]\n"
          ],
          "name": "stdout"
        }
      ]
    },
    {
      "cell_type": "code",
      "metadata": {
        "id": "K4uAZWvfpk1k"
      },
      "source": [
        "import random \n",
        "\n",
        "random.shuffle(training_data)"
      ],
      "execution_count": null,
      "outputs": []
    },
    {
      "cell_type": "code",
      "metadata": {
        "id": "dpo8sNaApuiG",
        "colab": {
          "base_uri": "https://localhost:8080/"
        },
        "outputId": "dc825e9e-1612-4954-aa66-1107d774c80f"
      },
      "source": [
        "for sample in training_data[0:10]:\n",
        "  print(sample[1])"
      ],
      "execution_count": null,
      "outputs": [
        {
          "output_type": "stream",
          "text": [
            "2\n",
            "2\n",
            "4\n",
            "4\n",
            "1\n",
            "0\n",
            "2\n",
            "0\n",
            "4\n",
            "3\n"
          ],
          "name": "stdout"
        }
      ]
    },
    {
      "cell_type": "code",
      "metadata": {
        "id": "A6OnWVHWvRCz"
      },
      "source": [
        "input = []\n",
        "targets = []"
      ],
      "execution_count": null,
      "outputs": []
    },
    {
      "cell_type": "code",
      "metadata": {
        "id": "6tqhTWewviTm"
      },
      "source": [
        "for features , labels in training_data:\n",
        "  input.append(features)\n",
        "  targets.append(labels)"
      ],
      "execution_count": null,
      "outputs": []
    },
    {
      "cell_type": "code",
      "metadata": {
        "id": "bFw0afFJ3Eso",
        "colab": {
          "base_uri": "https://localhost:8080/",
          "height": 269
        },
        "outputId": "4cbfe478-1e02-4d84-b3fd-afd1d9230eb7"
      },
      "source": [
        "digit = input[4]\n",
        "import matplotlib.pyplot as plt\n",
        "plt.imshow(digit, cmap=plt.cm.binary)\n",
        "plt.show()"
      ],
      "execution_count": null,
      "outputs": [
        {
          "output_type": "display_data",
          "data": {
            "image/png": "[encoded data removed]",
            "text/plain": [
              "<Figure size 432x288 with 1 Axes>"
            ]
          },
          "metadata": {
            "tags": [],
            "needs_background": "light"
          }
        }
      ]
    },
    {
      "cell_type": "code",
      "metadata": {
        "id": "Ldmhu015v8jO",
        "colab": {
          "base_uri": "https://localhost:8080/"
        },
        "outputId": "4c2ade5f-545b-4b6c-d43e-284f95b275da"
      },
      "source": [
        "input = np.array(input)\n",
        "input.shape"
      ],
      "execution_count": null,
      "outputs": [
        {
          "output_type": "execute_result",
          "data": {
            "text/plain": [
              "(4323, 150, 150)"
            ]
          },
          "metadata": {
            "tags": []
          },
          "execution_count": 17
        }
      ]
    },
    {
      "cell_type": "code",
      "metadata": {
        "id": "_dFZ764e24O1",
        "colab": {
          "base_uri": "https://localhost:8080/",
          "height": 269
        },
        "outputId": "90da16f4-b27d-4ed9-e634-e98ec75d5ea5"
      },
      "source": [
        "digit = input[4]\n",
        "import matplotlib.pyplot as plt\n",
        "plt.imshow(digit, cmap=plt.cm.binary)\n",
        "plt.show()"
      ],
      "execution_count": null,
      "outputs": [
        {
          "output_type": "display_data",
          "data": {
            "image/png": "[encoded data removed]",
            "text/plain": [
              "<Figure size 432x288 with 1 Axes>"
            ]
          },
          "metadata": {
            "tags": [],
            "needs_background": "light"
          }
        }
      ]
    },
    {
      "cell_type": "code",
      "metadata": {
        "id": "80LXhSaqx84s"
      },
      "source": [
        "input = input.reshape(4323, 150*150)"
      ],
      "execution_count": null,
      "outputs": []
    },
    {
      "cell_type": "code",
      "metadata": {
        "id": "pB8aM6WXDgM_",
        "colab": {
          "base_uri": "https://localhost:8080/"
        },
        "outputId": "a8ac6586-36f4-4b02-d946-9376ce8beba0"
      },
      "source": [
        "input[0]"
      ],
      "execution_count": null,
      "outputs": [
        {
          "output_type": "execute_result",
          "data": {
            "text/plain": [
              "array([ 58,  63,  74, ...,  58, 173, 119], dtype=uint8)"
            ]
          },
          "metadata": {
            "tags": []
          },
          "execution_count": 20
        }
      ]
    },
    {
      "cell_type": "code",
      "metadata": {
        "id": "W_xQu7S-5apw",
        "colab": {
          "base_uri": "https://localhost:8080/"
        },
        "outputId": "724a620c-45f7-483e-932c-b5b54ff1eefe"
      },
      "source": [
        "input.shape"
      ],
      "execution_count": null,
      "outputs": [
        {
          "output_type": "execute_result",
          "data": {
            "text/plain": [
              "(4323, 22500)"
            ]
          },
          "metadata": {
            "tags": []
          },
          "execution_count": 21
        }
      ]
    },
    {
      "cell_type": "code",
      "metadata": {
        "id": "zdK639sJyNTY"
      },
      "source": [
        "input = input.astype('float32')/255"
      ],
      "execution_count": null,
      "outputs": []
    },
    {
      "cell_type": "code",
      "metadata": {
        "id": "EQwZA1NaycBV",
        "colab": {
          "base_uri": "https://localhost:8080/"
        },
        "outputId": "70dd7c8e-740c-487d-fff5-bb382ef18588"
      },
      "source": [
        "input[0]"
      ],
      "execution_count": null,
      "outputs": [
        {
          "output_type": "execute_result",
          "data": {
            "text/plain": [
              "array([0.22745098, 0.24705882, 0.2901961 , ..., 0.22745098, 0.6784314 ,\n",
              "       0.46666667], dtype=float32)"
            ]
          },
          "metadata": {
            "tags": []
          },
          "execution_count": 23
        }
      ]
    },
    {
      "cell_type": "code",
      "metadata": {
        "id": "FG0UPqbs2z5V"
      },
      "source": [
        ""
      ],
      "execution_count": null,
      "outputs": []
    },
    {
      "cell_type": "code",
      "metadata": {
        "id": "Re-U_OWFys2H"
      },
      "source": [
        "from sklearn.preprocessing import LabelEncoder\n",
        "\n",
        "le = LabelEncoder()\n",
        "targets = le.fit_transform(targets)"
      ],
      "execution_count": null,
      "outputs": []
    },
    {
      "cell_type": "code",
      "metadata": {
        "id": "wBq_6InUy87p",
        "colab": {
          "base_uri": "https://localhost:8080/"
        },
        "outputId": "293e30b2-4cb6-422c-bb59-5e188cd3284c"
      },
      "source": [
        "print(targets)"
      ],
      "execution_count": null,
      "outputs": [
        {
          "output_type": "stream",
          "text": [
            "[2 2 4 ... 3 1 0]\n"
          ],
          "name": "stdout"
        }
      ]
    },
    {
      "cell_type": "code",
      "metadata": {
        "id": "b6iN1B0tzFZs"
      },
      "source": [
        "from keras.utils import to_categorical\n",
        "\n",
        "targets=to_categorical(targets,5)"
      ],
      "execution_count": null,
      "outputs": []
    },
    {
      "cell_type": "code",
      "metadata": {
        "id": "p_8CmkcZzNWY",
        "colab": {
          "base_uri": "https://localhost:8080/"
        },
        "outputId": "dff315ae-1c18-4cb4-efde-83d6155e9a33"
      },
      "source": [
        "targets"
      ],
      "execution_count": null,
      "outputs": [
        {
          "output_type": "execute_result",
          "data": {
            "text/plain": [
              "array([[0., 0., 1., 0., 0.],\n",
              "       [0., 0., 1., 0., 0.],\n",
              "       [0., 0., 0., 0., 1.],\n",
              "       ...,\n",
              "       [0., 0., 0., 1., 0.],\n",
              "       [0., 1., 0., 0., 0.],\n",
              "       [1., 0., 0., 0., 0.]], dtype=float32)"
            ]
          },
          "metadata": {
            "tags": []
          },
          "execution_count": 27
        }
      ]
    },
    {
      "cell_type": "code",
      "metadata": {
        "id": "7Ha_6u1zzjrB"
      },
      "source": [
        "from sklearn.model_selection import train_test_split\n",
        "\n"
      ],
      "execution_count": null,
      "outputs": []
    },
    {
      "cell_type": "code",
      "metadata": {
        "id": "aeiDFSSgzRdy"
      },
      "source": [
        "train_data,test_data,train_targets,test_targets=train_test_split(input,targets,test_size=0.25,random_state=42)"
      ],
      "execution_count": null,
      "outputs": []
    },
    {
      "cell_type": "code",
      "metadata": {
        "id": "huiDl_sN0PVe",
        "colab": {
          "base_uri": "https://localhost:8080/"
        },
        "outputId": "589e8239-51ef-459f-ae79-e5c7c4c6203e"
      },
      "source": [
        "train_data"
      ],
      "execution_count": null,
      "outputs": [
        {
          "output_type": "execute_result",
          "data": {
            "text/plain": [
              "array([[0.00784314, 0.00784314, 0.00784314, ..., 0.        , 0.        ,\n",
              "        0.        ],\n",
              "       [0.84313726, 0.24705882, 0.16470589, ..., 0.38431373, 0.49803922,\n",
              "        0.6313726 ],\n",
              "       [0.22745098, 0.49803922, 0.6627451 , ..., 0.22352941, 0.21960784,\n",
              "        0.10588235],\n",
              "       ...,\n",
              "       [0.30588236, 0.32156864, 0.33333334, ..., 0.45490196, 0.44705883,\n",
              "        0.43529412],\n",
              "       [0.7176471 , 0.7254902 , 0.7411765 , ..., 0.5137255 , 0.28627452,\n",
              "        0.05882353],\n",
              "       [0.16470589, 0.16470589, 0.15686275, ..., 0.09803922, 0.16862746,\n",
              "        0.13725491]], dtype=float32)"
            ]
          },
          "metadata": {
            "tags": []
          },
          "execution_count": 30
        }
      ]
    },
    {
      "cell_type": "code",
      "metadata": {
        "id": "7tXajZV30SG0",
        "colab": {
          "base_uri": "https://localhost:8080/"
        },
        "outputId": "3568b918-7191-4671-fcb0-fec216c2d972"
      },
      "source": [
        "test_data.shape"
      ],
      "execution_count": null,
      "outputs": [
        {
          "output_type": "execute_result",
          "data": {
            "text/plain": [
              "(1081, 22500)"
            ]
          },
          "metadata": {
            "tags": []
          },
          "execution_count": 31
        }
      ]
    },
    {
      "cell_type": "code",
      "metadata": {
        "id": "a_xoLJzK0VlI",
        "colab": {
          "base_uri": "https://localhost:8080/"
        },
        "outputId": "ea5fbdc9-bbba-4115-d977-954fa8c0af37"
      },
      "source": [
        "train_targets[0]"
      ],
      "execution_count": null,
      "outputs": [
        {
          "output_type": "execute_result",
          "data": {
            "text/plain": [
              "array([1., 0., 0., 0., 0.], dtype=float32)"
            ]
          },
          "metadata": {
            "tags": []
          },
          "execution_count": 32
        }
      ]
    },
    {
      "cell_type": "code",
      "metadata": {
        "id": "lCy2xk_f0X8e",
        "colab": {
          "base_uri": "https://localhost:8080/"
        },
        "outputId": "a2c64cac-17be-43a0-aadd-d18c6301da0e"
      },
      "source": [
        "test_targets"
      ],
      "execution_count": null,
      "outputs": [
        {
          "output_type": "execute_result",
          "data": {
            "text/plain": [
              "array([[1., 0., 0., 0., 0.],\n",
              "       [0., 0., 0., 1., 0.],\n",
              "       [0., 0., 1., 0., 0.],\n",
              "       ...,\n",
              "       [0., 0., 0., 1., 0.],\n",
              "       [0., 0., 0., 1., 0.],\n",
              "       [1., 0., 0., 0., 0.]], dtype=float32)"
            ]
          },
          "metadata": {
            "tags": []
          },
          "execution_count": 33
        }
      ]
    },
    {
      "cell_type": "code",
      "metadata": {
        "id": "GDFC208Q0lhp"
      },
      "source": [
        "from keras import models\n",
        "from keras import layers\n",
        "network = models.Sequential()\n",
        "network.add(layers.Dense(512, activation='relu', input_shape=(22500,)))\n",
        "network.add(layers.Dense(5, activation='softmax'))"
      ],
      "execution_count": null,
      "outputs": []
    },
    {
      "cell_type": "code",
      "metadata": {
        "id": "8YpvbZHt0vjo"
      },
      "source": [
        "\n",
        "network.compile( optimizer='rmsprop',\n",
        "loss='categorical_crossentropy', \n",
        "metrics=['accuracy'])"
      ],
      "execution_count": null,
      "outputs": []
    },
    {
      "cell_type": "code",
      "metadata": {
        "id": "trD1l0Tq6tws",
        "colab": {
          "base_uri": "https://localhost:8080/"
        },
        "outputId": "f04c1ddc-9a2f-4719-95f7-3d8104d65fda"
      },
      "source": [
        "network.summary()"
      ],
      "execution_count": null,
      "outputs": [
        {
          "output_type": "stream",
          "text": [
            "Model: \"sequential\"\n",
            "_________________________________________________________________\n",
            "Layer (type)                 Output Shape              Param #   \n",
            "=================================================================\n",
            "dense (Dense)                (None, 512)               11520512  \n",
            "_________________________________________________________________\n",
            "dense_1 (Dense)              (None, 5)                 2565      \n",
            "=================================================================\n",
            "Total params: 11,523,077\n",
            "Trainable params: 11,523,077\n",
            "Non-trainable params: 0\n",
            "_________________________________________________________________\n"
          ],
          "name": "stdout"
        }
      ]
    },
    {
      "cell_type": "code",
      "metadata": {
        "id": "YASBokpx1Nis",
        "colab": {
          "base_uri": "https://localhost:8080/"
        },
        "outputId": "faec7c20-c3b2-4307-ba60-62fd8429ceff"
      },
      "source": [
        "history = network.fit(train_data,train_targets, epochs=50,batch_size= 32)"
      ],
      "execution_count": null,
      "outputs": [
        {
          "output_type": "stream",
          "text": [
            "Epoch 1/50\n",
            "102/102 [==============================] - 4s 13ms/step - loss: 31.0379 - accuracy: 0.2209\n",
            "Epoch 2/50\n",
            "102/102 [==============================] - 1s 12ms/step - loss: 7.4980 - accuracy: 0.2532\n",
            "Epoch 3/50\n",
            "102/102 [==============================] - 1s 12ms/step - loss: 5.5777 - accuracy: 0.2345\n",
            "Epoch 4/50\n",
            "102/102 [==============================] - 1s 12ms/step - loss: 3.8349 - accuracy: 0.2400\n",
            "Epoch 5/50\n",
            "102/102 [==============================] - 1s 12ms/step - loss: 3.3516 - accuracy: 0.2701\n",
            "Epoch 6/50\n",
            "102/102 [==============================] - 1s 12ms/step - loss: 2.5755 - accuracy: 0.2786\n",
            "Epoch 7/50\n",
            "102/102 [==============================] - 1s 12ms/step - loss: 2.4180 - accuracy: 0.2579\n",
            "Epoch 8/50\n",
            "102/102 [==============================] - 1s 12ms/step - loss: 1.8324 - accuracy: 0.2960\n",
            "Epoch 9/50\n",
            "102/102 [==============================] - 1s 12ms/step - loss: 1.7495 - accuracy: 0.2954\n",
            "Epoch 10/50\n",
            "102/102 [==============================] - 1s 12ms/step - loss: 1.6346 - accuracy: 0.3086\n",
            "Epoch 11/50\n",
            "102/102 [==============================] - 1s 12ms/step - loss: 1.5796 - accuracy: 0.3334\n",
            "Epoch 12/50\n",
            "102/102 [==============================] - 1s 12ms/step - loss: 1.5351 - accuracy: 0.3348\n",
            "Epoch 13/50\n",
            "102/102 [==============================] - 1s 12ms/step - loss: 1.4924 - accuracy: 0.3580\n",
            "Epoch 14/50\n",
            "102/102 [==============================] - 1s 12ms/step - loss: 1.4851 - accuracy: 0.3695\n",
            "Epoch 15/50\n",
            "102/102 [==============================] - 1s 12ms/step - loss: 1.4527 - accuracy: 0.3746\n",
            "Epoch 16/50\n",
            "102/102 [==============================] - 1s 12ms/step - loss: 1.4305 - accuracy: 0.3868\n",
            "Epoch 17/50\n",
            "102/102 [==============================] - 1s 12ms/step - loss: 1.4269 - accuracy: 0.4021\n",
            "Epoch 18/50\n",
            "102/102 [==============================] - 1s 12ms/step - loss: 1.4066 - accuracy: 0.4156\n",
            "Epoch 19/50\n",
            "102/102 [==============================] - 1s 12ms/step - loss: 1.4057 - accuracy: 0.4059\n",
            "Epoch 20/50\n",
            "102/102 [==============================] - 1s 12ms/step - loss: 1.3650 - accuracy: 0.4228\n",
            "Epoch 21/50\n",
            "102/102 [==============================] - 1s 12ms/step - loss: 1.3459 - accuracy: 0.4612\n",
            "Epoch 22/50\n",
            "102/102 [==============================] - 1s 12ms/step - loss: 1.3120 - accuracy: 0.4401\n",
            "Epoch 23/50\n",
            "102/102 [==============================] - 1s 12ms/step - loss: 1.3501 - accuracy: 0.4583\n",
            "Epoch 24/50\n",
            "102/102 [==============================] - 1s 12ms/step - loss: 1.2709 - accuracy: 0.4880\n",
            "Epoch 25/50\n",
            "102/102 [==============================] - 1s 12ms/step - loss: 1.2935 - accuracy: 0.4593\n",
            "Epoch 26/50\n",
            "102/102 [==============================] - 1s 12ms/step - loss: 1.2609 - accuracy: 0.4977\n",
            "Epoch 27/50\n",
            "102/102 [==============================] - 1s 12ms/step - loss: 1.2586 - accuracy: 0.4934\n",
            "Epoch 28/50\n",
            "102/102 [==============================] - 1s 12ms/step - loss: 1.2592 - accuracy: 0.4921\n",
            "Epoch 29/50\n",
            "102/102 [==============================] - 1s 12ms/step - loss: 1.2260 - accuracy: 0.5234\n",
            "Epoch 30/50\n",
            "102/102 [==============================] - 1s 12ms/step - loss: 1.2435 - accuracy: 0.5230\n",
            "Epoch 31/50\n",
            "102/102 [==============================] - 1s 12ms/step - loss: 1.1741 - accuracy: 0.5381\n",
            "Epoch 32/50\n",
            "102/102 [==============================] - 1s 12ms/step - loss: 1.1808 - accuracy: 0.5433\n",
            "Epoch 33/50\n",
            "102/102 [==============================] - 1s 12ms/step - loss: 1.2624 - accuracy: 0.5160\n",
            "Epoch 34/50\n",
            "102/102 [==============================] - 1s 12ms/step - loss: 1.1714 - accuracy: 0.5350\n",
            "Epoch 35/50\n",
            "102/102 [==============================] - 1s 12ms/step - loss: 1.1626 - accuracy: 0.5403\n",
            "Epoch 36/50\n",
            "102/102 [==============================] - 1s 12ms/step - loss: 1.1092 - accuracy: 0.5747\n",
            "Epoch 37/50\n",
            "102/102 [==============================] - 1s 12ms/step - loss: 1.0993 - accuracy: 0.5783\n",
            "Epoch 38/50\n",
            "102/102 [==============================] - 1s 12ms/step - loss: 1.0962 - accuracy: 0.5807\n",
            "Epoch 39/50\n",
            "102/102 [==============================] - 1s 12ms/step - loss: 1.1084 - accuracy: 0.5680\n",
            "Epoch 40/50\n",
            "102/102 [==============================] - 1s 12ms/step - loss: 1.0816 - accuracy: 0.5908\n",
            "Epoch 41/50\n",
            "102/102 [==============================] - 1s 12ms/step - loss: 1.1250 - accuracy: 0.5667\n",
            "Epoch 42/50\n",
            "102/102 [==============================] - 1s 12ms/step - loss: 1.0920 - accuracy: 0.5696\n",
            "Epoch 43/50\n",
            "102/102 [==============================] - 1s 12ms/step - loss: 1.0721 - accuracy: 0.5784\n",
            "Epoch 44/50\n",
            "102/102 [==============================] - 1s 12ms/step - loss: 0.9933 - accuracy: 0.6229\n",
            "Epoch 45/50\n",
            "102/102 [==============================] - 1s 12ms/step - loss: 1.0604 - accuracy: 0.6068\n",
            "Epoch 46/50\n",
            "102/102 [==============================] - 1s 12ms/step - loss: 0.9890 - accuracy: 0.6401\n",
            "Epoch 47/50\n",
            "102/102 [==============================] - 1s 12ms/step - loss: 1.0403 - accuracy: 0.6052\n",
            "Epoch 48/50\n",
            "102/102 [==============================] - 1s 12ms/step - loss: 1.0868 - accuracy: 0.6056\n",
            "Epoch 49/50\n",
            "102/102 [==============================] - 1s 12ms/step - loss: 0.9686 - accuracy: 0.6311\n",
            "Epoch 50/50\n",
            "102/102 [==============================] - 1s 12ms/step - loss: 0.9929 - accuracy: 0.6263\n"
          ],
          "name": "stdout"
        }
      ]
    }
  ]
}