{
  "nbformat": 4,
  "nbformat_minor": 0,
  "metadata": {
    "colab": {
      "name": "Flowers_Recognition_using_CNN_and_KERAS_model.ipynb.ipynp",
      "provenance": [],
      "collapsed_sections": []
    },
    "kernelspec": {
      "name": "python3",
      "display_name": "Python 3"
    },
    "language_info": {
      "name": "python"
    },
    "accelerator": "GPU"
  },
  "cells": [
    {
      "cell_type": "code",
      "metadata": {
        "id": "KnreXonTh52Z",
        "colab": {
          "base_uri": "https://localhost:8080/"
        },
        "outputId": "4a7e9da1-ab09-40c7-fe09-424da2a6a040"
      },
      "source": [
        "from google.colab import drive \n",
        "drive.mount('/content/drive/')"
      ],
      "execution_count": 58,
      "outputs": [
        {
          "output_type": "stream",
          "text": [
            "Drive already mounted at /content/drive/; to attempt to forcibly remount, call drive.mount(\"/content/drive/\", force_remount=True).\n"
          ],
          "name": "stdout"
        }
      ]
    },
    {
      "cell_type": "code",
      "metadata": {
        "id": "fEpF9AyPihC9"
      },
      "source": [
        "import numpy as np\n",
        "import matplotlib.pyplot as plt\n",
        "import os \n",
        "import cv2\n"
      ],
      "execution_count": 59,
      "outputs": []
    },
    {
      "cell_type": "code",
      "metadata": {
        "id": "eCGziY3fixFw"
      },
      "source": [
        "DATADIR ='/content/drive/MyDrive/flowers'\n",
        "CATAGORIES = ['daisy' , 'dandelion' , 'rose' , 'sunflower' , 'tulip'] \n",
        "\n"
      ],
      "execution_count": 60,
      "outputs": []
    },
    {
      "cell_type": "code",
      "metadata": {
        "id": "cs7T8sM5mtsK"
      },
      "source": [
        "training_data = []\n",
        "IMAGE_SIZE = 150\n",
        "def create_training_data():\n",
        "  for category in CATAGORIES:\n",
        "    path  = os.path.join(DATADIR , category) # path to daisy , dandeltion , rose , sunflower , tulip\n",
        "    class_num = CATAGORIES.index(category)\n",
        "\n",
        "    for img in  os.listdir(path):\n",
        "      try :\n",
        "        img_array = cv2.imread(os.path.join(path , img) , cv2.IMREAD_GRAYSCALE)\n",
        "        new_array = cv2.resize(img_array , (IMAGE_SIZE , IMAGE_SIZE))\n",
        "        training_data.append([new_array , class_num])\n",
        "      except Exception as e:\n",
        "        pass\n",
        "create_training_data()"
      ],
      "execution_count": 61,
      "outputs": []
    },
    {
      "cell_type": "code",
      "metadata": {
        "id": "LLX_8kI2pNVl",
        "colab": {
          "base_uri": "https://localhost:8080/"
        },
        "outputId": "7394e061-4e65-4d77-a53f-94e16d76169e"
      },
      "source": [
        "print(training_data[0])"
      ],
      "execution_count": 62,
      "outputs": [
        {
          "output_type": "stream",
          "text": [
            "[array([[129, 124, 114, ..., 170, 166, 149],\n",
            "       [124, 108,  96, ..., 135, 151, 136],\n",
            "       [109,  96,  82, ..., 129, 125, 124],\n",
            "       ...,\n",
            "       [ 20,  20,  19, ...,  39,  36,  38],\n",
            "       [ 19,  18,  19, ...,  38,  40,  40],\n",
            "       [ 17,  16,  19, ...,  38,  39,  37]], dtype=uint8), 0]\n"
          ],
          "name": "stdout"
        }
      ]
    },
    {
      "cell_type": "code",
      "metadata": {
        "id": "K4uAZWvfpk1k"
      },
      "source": [
        "import random \n",
        "\n",
        "random.shuffle(training_data)"
      ],
      "execution_count": 63,
      "outputs": []
    },
    {
      "cell_type": "code",
      "metadata": {
        "id": "dpo8sNaApuiG",
        "colab": {
          "base_uri": "https://localhost:8080/"
        },
        "outputId": "04f24721-17ae-4f7e-9b75-fa89f4eea267"
      },
      "source": [
        "for sample in training_data[0:10]:\n",
        "  print(sample[1])"
      ],
      "execution_count": 64,
      "outputs": [
        {
          "output_type": "stream",
          "text": [
            "2\n",
            "1\n",
            "4\n",
            "4\n",
            "1\n",
            "3\n",
            "1\n",
            "0\n",
            "2\n",
            "2\n"
          ],
          "name": "stdout"
        }
      ]
    },
    {
      "cell_type": "code",
      "metadata": {
        "id": "A6OnWVHWvRCz"
      },
      "source": [
        "input = []\n",
        "targets = []"
      ],
      "execution_count": 65,
      "outputs": []
    },
    {
      "cell_type": "code",
      "metadata": {
        "id": "6tqhTWewviTm"
      },
      "source": [
        "for features , labels in training_data:\n",
        "  input.append(features)\n",
        "  targets.append(labels)"
      ],
      "execution_count": 66,
      "outputs": []
    },
    {
      "cell_type": "code",
      "metadata": {
        "id": "bFw0afFJ3Eso",
        "colab": {
          "base_uri": "https://localhost:8080/",
          "height": 269
        },
        "outputId": "3995c965-e17f-4b10-b02e-ddc00db0c83c"
      },
      "source": [
        "digit = input[4]\n",
        "import matplotlib.pyplot as plt\n",
        "plt.imshow(digit, cmap=plt.cm.binary)\n",
        "plt.show()"
      ],
      "execution_count": 67,
      "outputs": [
        {
          "output_type": "display_data",
          "data": {
            "image/png": "[encoded data removed]",
            "text/plain": [
              "<Figure size 432x288 with 1 Axes>"
            ]
          },
          "metadata": {
            "tags": [],
            "needs_background": "light"
          }
        }
      ]
    },
    {
      "cell_type": "code",
      "metadata": {
        "id": "Ldmhu015v8jO",
        "colab": {
          "base_uri": "https://localhost:8080/"
        },
        "outputId": "4b10441f-d6b5-4beb-dadc-ee8e02db58ff"
      },
      "source": [
        "input = np.array(input)\n",
        "input.shape"
      ],
      "execution_count": 68,
      "outputs": [
        {
          "output_type": "execute_result",
          "data": {
            "text/plain": [
              "(4323, 150, 150)"
            ]
          },
          "metadata": {
            "tags": []
          },
          "execution_count": 68
        }
      ]
    },
    {
      "cell_type": "code",
      "metadata": {
        "id": "_dFZ764e24O1",
        "colab": {
          "base_uri": "https://localhost:8080/",
          "height": 269
        },
        "outputId": "cece6f46-ef7c-4b2d-fee9-05f3097e7e5b"
      },
      "source": [
        "digit = input[4]\n",
        "import matplotlib.pyplot as plt\n",
        "plt.imshow(digit, cmap=plt.cm.binary)\n",
        "plt.show()"
      ],
      "execution_count": 69,
      "outputs": [
        {
          "output_type": "display_data",
          "data": {
            "image/png": "[encoded data removed]",
            "text/plain": [
              "<Figure size 432x288 with 1 Axes>"
            ]
          },
          "metadata": {
            "tags": [],
            "needs_background": "light"
          }
        }
      ]
    },
    {
      "cell_type": "code",
      "metadata": {
        "id": "80LXhSaqx84s"
      },
      "source": [
        "input = input.reshape(4323, 150*150)"
      ],
      "execution_count": 70,
      "outputs": []
    },
    {
      "cell_type": "code",
      "metadata": {
        "id": "pB8aM6WXDgM_",
        "colab": {
          "base_uri": "https://localhost:8080/"
        },
        "outputId": "0662bd01-7b60-424d-bbff-cc2e54a4b916"
      },
      "source": [
        "input[0]"
      ],
      "execution_count": 71,
      "outputs": [
        {
          "output_type": "execute_result",
          "data": {
            "text/plain": [
              "array([ 55,  58,  49, ..., 184, 162,  14], dtype=uint8)"
            ]
          },
          "metadata": {
            "tags": []
          },
          "execution_count": 71
        }
      ]
    },
    {
      "cell_type": "code",
      "metadata": {
        "id": "W_xQu7S-5apw",
        "colab": {
          "base_uri": "https://localhost:8080/"
        },
        "outputId": "6d7855ca-dd18-49b8-a411-0929c45b2193"
      },
      "source": [
        "input.shape"
      ],
      "execution_count": 72,
      "outputs": [
        {
          "output_type": "execute_result",
          "data": {
            "text/plain": [
              "(4323, 22500)"
            ]
          },
          "metadata": {
            "tags": []
          },
          "execution_count": 72
        }
      ]
    },
    {
      "cell_type": "code",
      "metadata": {
        "id": "zdK639sJyNTY"
      },
      "source": [
        "input = input.astype('float32')/255"
      ],
      "execution_count": 73,
      "outputs": []
    },
    {
      "cell_type": "code",
      "metadata": {
        "id": "EQwZA1NaycBV",
        "colab": {
          "base_uri": "https://localhost:8080/"
        },
        "outputId": "cf883df6-4b95-4f0c-df8d-bc93a86cd82d"
      },
      "source": [
        "input[0]"
      ],
      "execution_count": 74,
      "outputs": [
        {
          "output_type": "execute_result",
          "data": {
            "text/plain": [
              "array([0.21568628, 0.22745098, 0.19215687, ..., 0.72156864, 0.63529414,\n",
              "       0.05490196], dtype=float32)"
            ]
          },
          "metadata": {
            "tags": []
          },
          "execution_count": 74
        }
      ]
    },
    {
      "cell_type": "code",
      "metadata": {
        "id": "FG0UPqbs2z5V"
      },
      "source": [
        ""
      ],
      "execution_count": 74,
      "outputs": []
    },
    {
      "cell_type": "code",
      "metadata": {
        "id": "Re-U_OWFys2H"
      },
      "source": [
        "from sklearn.preprocessing import LabelEncoder\n",
        "\n",
        "le = LabelEncoder()\n",
        "targets = le.fit_transform(targets)"
      ],
      "execution_count": 75,
      "outputs": []
    },
    {
      "cell_type": "code",
      "metadata": {
        "id": "wBq_6InUy87p",
        "colab": {
          "base_uri": "https://localhost:8080/"
        },
        "outputId": "e2ae12d2-f047-441e-e248-eb9da3ca427e"
      },
      "source": [
        "print(targets)"
      ],
      "execution_count": 76,
      "outputs": [
        {
          "output_type": "stream",
          "text": [
            "[2 1 4 ... 4 2 4]\n"
          ],
          "name": "stdout"
        }
      ]
    },
    {
      "cell_type": "code",
      "metadata": {
        "id": "b6iN1B0tzFZs"
      },
      "source": [
        "from keras.utils import to_categorical\n",
        "\n",
        "targets=to_categorical(targets,5)"
      ],
      "execution_count": 77,
      "outputs": []
    },
    {
      "cell_type": "code",
      "metadata": {
        "id": "p_8CmkcZzNWY",
        "colab": {
          "base_uri": "https://localhost:8080/"
        },
        "outputId": "7d92f3c9-6233-40ea-f74a-5afcf8757f1c"
      },
      "source": [
        "targets"
      ],
      "execution_count": 78,
      "outputs": [
        {
          "output_type": "execute_result",
          "data": {
            "text/plain": [
              "array([[0., 0., 1., 0., 0.],\n",
              "       [0., 1., 0., 0., 0.],\n",
              "       [0., 0., 0., 0., 1.],\n",
              "       ...,\n",
              "       [0., 0., 0., 0., 1.],\n",
              "       [0., 0., 1., 0., 0.],\n",
              "       [0., 0., 0., 0., 1.]], dtype=float32)"
            ]
          },
          "metadata": {
            "tags": []
          },
          "execution_count": 78
        }
      ]
    },
    {
      "cell_type": "code",
      "metadata": {
        "id": "7Ha_6u1zzjrB"
      },
      "source": [
        "from sklearn.model_selection import train_test_split\n",
        "\n"
      ],
      "execution_count": 79,
      "outputs": []
    },
    {
      "cell_type": "code",
      "metadata": {
        "id": "aeiDFSSgzRdy"
      },
      "source": [
        "train_data,test_data,train_targets,test_targets=train_test_split(input,targets,test_size=0.25,random_state=42)"
      ],
      "execution_count": 80,
      "outputs": []
    },
    {
      "cell_type": "code",
      "metadata": {
        "id": "huiDl_sN0PVe",
        "colab": {
          "base_uri": "https://localhost:8080/"
        },
        "outputId": "bf98fb72-ab10-4f93-a6c0-e0232c7a7e9e"
      },
      "source": [
        "train_data"
      ],
      "execution_count": 81,
      "outputs": [
        {
          "output_type": "execute_result",
          "data": {
            "text/plain": [
              "array([[0.45490196, 0.42352942, 0.34509805, ..., 0.        , 0.00392157,\n",
              "        0.00392157],\n",
              "       [0.52156866, 0.53333336, 0.5372549 , ..., 0.21960784, 0.21568628,\n",
              "        0.21960784],\n",
              "       [0.29803923, 0.28235295, 0.27450982, ..., 0.21568628, 0.1764706 ,\n",
              "        0.11764706],\n",
              "       ...,\n",
              "       [0.61960787, 0.6509804 , 0.70980394, ..., 0.14901961, 0.15294118,\n",
              "        0.15686275],\n",
              "       [0.09019608, 0.10196079, 0.10196079, ..., 0.34117648, 0.27058825,\n",
              "        0.15686275],\n",
              "       [0.47058824, 0.4117647 , 0.3647059 , ..., 0.28627452, 0.25882354,\n",
              "        0.23529412]], dtype=float32)"
            ]
          },
          "metadata": {
            "tags": []
          },
          "execution_count": 81
        }
      ]
    },
    {
      "cell_type": "code",
      "metadata": {
        "id": "7tXajZV30SG0",
        "colab": {
          "base_uri": "https://localhost:8080/"
        },
        "outputId": "4338ea46-8d59-4e8e-d338-98064352d3a3"
      },
      "source": [
        "test_data.shape"
      ],
      "execution_count": 82,
      "outputs": [
        {
          "output_type": "execute_result",
          "data": {
            "text/plain": [
              "(1081, 22500)"
            ]
          },
          "metadata": {
            "tags": []
          },
          "execution_count": 82
        }
      ]
    },
    {
      "cell_type": "code",
      "metadata": {
        "id": "a_xoLJzK0VlI",
        "colab": {
          "base_uri": "https://localhost:8080/"
        },
        "outputId": "dc62d135-2a1f-4c4b-8462-6a395c25cd0f"
      },
      "source": [
        "train_targets[0]"
      ],
      "execution_count": 83,
      "outputs": [
        {
          "output_type": "execute_result",
          "data": {
            "text/plain": [
              "array([0., 0., 1., 0., 0.], dtype=float32)"
            ]
          },
          "metadata": {
            "tags": []
          },
          "execution_count": 83
        }
      ]
    },
    {
      "cell_type": "code",
      "metadata": {
        "id": "lCy2xk_f0X8e",
        "colab": {
          "base_uri": "https://localhost:8080/"
        },
        "outputId": "e4ae1df9-1e57-42c5-c744-05a91479d4a6"
      },
      "source": [
        "test_targets"
      ],
      "execution_count": 84,
      "outputs": [
        {
          "output_type": "execute_result",
          "data": {
            "text/plain": [
              "array([[0., 1., 0., 0., 0.],\n",
              "       [0., 0., 0., 0., 1.],\n",
              "       [0., 0., 1., 0., 0.],\n",
              "       ...,\n",
              "       [0., 0., 1., 0., 0.],\n",
              "       [0., 0., 1., 0., 0.],\n",
              "       [1., 0., 0., 0., 0.]], dtype=float32)"
            ]
          },
          "metadata": {
            "tags": []
          },
          "execution_count": 84
        }
      ]
    },
    {
      "cell_type": "code",
      "metadata": {
        "id": "GDFC208Q0lhp"
      },
      "source": [
        "from keras import models\n",
        "from keras import layers\n",
        "network = models.Sequential()\n",
        "network.add(layers.Dense(512, activation='relu', input_shape=(22500,)))\n",
        "network.add(layers.Dense(5, activation='softmax'))"
      ],
      "execution_count": 85,
      "outputs": []
    },
    {
      "cell_type": "code",
      "metadata": {
        "id": "8YpvbZHt0vjo"
      },
      "source": [
        "\n",
        "network.compile( optimizer='rmsprop',\n",
        "loss='categorical_crossentropy', \n",
        "metrics=['accuracy'])"
      ],
      "execution_count": 86,
      "outputs": []
    },
    {
      "cell_type": "code",
      "metadata": {
        "id": "trD1l0Tq6tws",
        "colab": {
          "base_uri": "https://localhost:8080/"
        },
        "outputId": "7c438d59-54b0-437c-a978-79831f4980b6"
      },
      "source": [
        "network.summary()"
      ],
      "execution_count": 87,
      "outputs": [
        {
          "output_type": "stream",
          "text": [
            "Model: \"sequential_3\"\n",
            "_________________________________________________________________\n",
            "Layer (type)                 Output Shape              Param #   \n",
            "=================================================================\n",
            "dense_6 (Dense)              (None, 512)               11520512  \n",
            "_________________________________________________________________\n",
            "dense_7 (Dense)              (None, 5)                 2565      \n",
            "=================================================================\n",
            "Total params: 11,523,077\n",
            "Trainable params: 11,523,077\n",
            "Non-trainable params: 0\n",
            "_________________________________________________________________\n"
          ],
          "name": "stdout"
        }
      ]
    },
    {
      "cell_type": "code",
      "metadata": {
        "id": "YASBokpx1Nis",
        "colab": {
          "base_uri": "https://localhost:8080/"
        },
        "outputId": "fa9e10dc-e2db-445a-9bda-5d2a7c66d9a7"
      },
      "source": [
        "history = network.fit(train_data,train_targets, epochs=100,batch_size= 32)"
      ],
      "execution_count": 88,
      "outputs": [
        {
          "output_type": "stream",
          "text": [
            "Epoch 1/100\n",
            "102/102 [==============================] - 1s 8ms/step - loss: 35.6276 - accuracy: 0.2202\n",
            "Epoch 2/100\n",
            "102/102 [==============================] - 1s 7ms/step - loss: 11.9089 - accuracy: 0.2358\n",
            "Epoch 3/100\n",
            "102/102 [==============================] - 1s 7ms/step - loss: 8.2226 - accuracy: 0.2516\n",
            "Epoch 4/100\n",
            "102/102 [==============================] - 1s 8ms/step - loss: 5.6248 - accuracy: 0.2637\n",
            "Epoch 5/100\n",
            "102/102 [==============================] - 1s 7ms/step - loss: 3.9464 - accuracy: 0.2713\n",
            "Epoch 6/100\n",
            "102/102 [==============================] - 1s 7ms/step - loss: 2.8973 - accuracy: 0.2611\n",
            "Epoch 7/100\n",
            "102/102 [==============================] - 1s 8ms/step - loss: 2.2816 - accuracy: 0.2978\n",
            "Epoch 8/100\n",
            "102/102 [==============================] - 1s 7ms/step - loss: 2.0581 - accuracy: 0.2825\n",
            "Epoch 9/100\n",
            "102/102 [==============================] - 1s 7ms/step - loss: 2.0681 - accuracy: 0.2887\n",
            "Epoch 10/100\n",
            "102/102 [==============================] - 1s 8ms/step - loss: 1.8301 - accuracy: 0.2962\n",
            "Epoch 11/100\n",
            "102/102 [==============================] - 1s 7ms/step - loss: 1.5742 - accuracy: 0.3322\n",
            "Epoch 12/100\n",
            "102/102 [==============================] - 1s 7ms/step - loss: 1.5431 - accuracy: 0.3474\n",
            "Epoch 13/100\n",
            "102/102 [==============================] - 1s 7ms/step - loss: 1.5020 - accuracy: 0.3483\n",
            "Epoch 14/100\n",
            "102/102 [==============================] - 1s 7ms/step - loss: 1.4913 - accuracy: 0.3565\n",
            "Epoch 15/100\n",
            "102/102 [==============================] - 1s 7ms/step - loss: 1.4449 - accuracy: 0.3781\n",
            "Epoch 16/100\n",
            "102/102 [==============================] - 1s 7ms/step - loss: 1.4552 - accuracy: 0.3691\n",
            "Epoch 17/100\n",
            "102/102 [==============================] - 1s 7ms/step - loss: 1.4550 - accuracy: 0.3878\n",
            "Epoch 18/100\n",
            "102/102 [==============================] - 1s 7ms/step - loss: 1.4221 - accuracy: 0.4036\n",
            "Epoch 19/100\n",
            "102/102 [==============================] - 1s 8ms/step - loss: 1.3766 - accuracy: 0.4278\n",
            "Epoch 20/100\n",
            "102/102 [==============================] - 1s 7ms/step - loss: 1.4070 - accuracy: 0.4017\n",
            "Epoch 21/100\n",
            "102/102 [==============================] - 1s 7ms/step - loss: 1.3570 - accuracy: 0.4385\n",
            "Epoch 22/100\n",
            "102/102 [==============================] - 1s 7ms/step - loss: 1.3361 - accuracy: 0.4444\n",
            "Epoch 23/100\n",
            "102/102 [==============================] - 1s 8ms/step - loss: 1.3418 - accuracy: 0.4389\n",
            "Epoch 24/100\n",
            "102/102 [==============================] - 1s 7ms/step - loss: 1.3082 - accuracy: 0.4726\n",
            "Epoch 25/100\n",
            "102/102 [==============================] - 1s 7ms/step - loss: 1.2671 - accuracy: 0.4851\n",
            "Epoch 26/100\n",
            "102/102 [==============================] - 1s 7ms/step - loss: 1.2866 - accuracy: 0.4842\n",
            "Epoch 27/100\n",
            "102/102 [==============================] - 1s 7ms/step - loss: 1.3065 - accuracy: 0.4659\n",
            "Epoch 28/100\n",
            "102/102 [==============================] - 1s 8ms/step - loss: 1.1962 - accuracy: 0.5127\n",
            "Epoch 29/100\n",
            "102/102 [==============================] - 1s 7ms/step - loss: 1.2330 - accuracy: 0.4937\n",
            "Epoch 30/100\n",
            "102/102 [==============================] - 1s 7ms/step - loss: 1.2026 - accuracy: 0.5163\n",
            "Epoch 31/100\n",
            "102/102 [==============================] - 1s 7ms/step - loss: 1.1907 - accuracy: 0.5132\n",
            "Epoch 32/100\n",
            "102/102 [==============================] - 1s 8ms/step - loss: 1.1950 - accuracy: 0.5149\n",
            "Epoch 33/100\n",
            "102/102 [==============================] - 1s 7ms/step - loss: 1.2298 - accuracy: 0.5426\n",
            "Epoch 34/100\n",
            "102/102 [==============================] - 1s 7ms/step - loss: 1.2186 - accuracy: 0.5301\n",
            "Epoch 35/100\n",
            "102/102 [==============================] - 1s 7ms/step - loss: 1.1508 - accuracy: 0.5626\n",
            "Epoch 36/100\n",
            "102/102 [==============================] - 1s 7ms/step - loss: 1.1610 - accuracy: 0.5562\n",
            "Epoch 37/100\n",
            "102/102 [==============================] - 1s 7ms/step - loss: 1.0985 - accuracy: 0.5733\n",
            "Epoch 38/100\n",
            "102/102 [==============================] - 1s 8ms/step - loss: 1.1087 - accuracy: 0.5754\n",
            "Epoch 39/100\n",
            "102/102 [==============================] - 1s 7ms/step - loss: 1.1005 - accuracy: 0.5715\n",
            "Epoch 40/100\n",
            "102/102 [==============================] - 1s 7ms/step - loss: 1.0439 - accuracy: 0.5848\n",
            "Epoch 41/100\n",
            "102/102 [==============================] - 1s 7ms/step - loss: 1.0880 - accuracy: 0.5863\n",
            "Epoch 42/100\n",
            "102/102 [==============================] - 1s 7ms/step - loss: 1.2138 - accuracy: 0.5430\n",
            "Epoch 43/100\n",
            "102/102 [==============================] - 1s 7ms/step - loss: 1.1071 - accuracy: 0.6000\n",
            "Epoch 44/100\n",
            "102/102 [==============================] - 1s 7ms/step - loss: 1.0783 - accuracy: 0.6024\n",
            "Epoch 45/100\n",
            "102/102 [==============================] - 1s 7ms/step - loss: 1.0092 - accuracy: 0.6226\n",
            "Epoch 46/100\n",
            "102/102 [==============================] - 1s 8ms/step - loss: 1.0303 - accuracy: 0.6083\n",
            "Epoch 47/100\n",
            "102/102 [==============================] - 1s 8ms/step - loss: 1.0178 - accuracy: 0.6177\n",
            "Epoch 48/100\n",
            "102/102 [==============================] - 1s 7ms/step - loss: 1.0023 - accuracy: 0.6225\n",
            "Epoch 49/100\n",
            "102/102 [==============================] - 1s 7ms/step - loss: 0.9793 - accuracy: 0.6419\n",
            "Epoch 50/100\n",
            "102/102 [==============================] - 1s 7ms/step - loss: 0.9945 - accuracy: 0.6328\n",
            "Epoch 51/100\n",
            "102/102 [==============================] - 1s 7ms/step - loss: 0.9667 - accuracy: 0.6392\n",
            "Epoch 52/100\n",
            "102/102 [==============================] - 1s 7ms/step - loss: 1.0395 - accuracy: 0.6240\n",
            "Epoch 53/100\n",
            "102/102 [==============================] - 1s 7ms/step - loss: 0.9160 - accuracy: 0.6595\n",
            "Epoch 54/100\n",
            "102/102 [==============================] - 1s 8ms/step - loss: 0.9261 - accuracy: 0.6565\n",
            "Epoch 55/100\n",
            "102/102 [==============================] - 1s 7ms/step - loss: 0.9501 - accuracy: 0.6597\n",
            "Epoch 56/100\n",
            "102/102 [==============================] - 1s 7ms/step - loss: 0.9917 - accuracy: 0.6515\n",
            "Epoch 57/100\n",
            "102/102 [==============================] - 1s 7ms/step - loss: 0.9036 - accuracy: 0.6691\n",
            "Epoch 58/100\n",
            "102/102 [==============================] - 1s 7ms/step - loss: 0.9874 - accuracy: 0.6372\n",
            "Epoch 59/100\n",
            "102/102 [==============================] - 1s 7ms/step - loss: 0.8663 - accuracy: 0.6947\n",
            "Epoch 60/100\n",
            "102/102 [==============================] - 1s 7ms/step - loss: 0.9637 - accuracy: 0.6637\n",
            "Epoch 61/100\n",
            "102/102 [==============================] - 1s 7ms/step - loss: 0.7953 - accuracy: 0.6961\n",
            "Epoch 62/100\n",
            "102/102 [==============================] - 1s 8ms/step - loss: 0.9096 - accuracy: 0.6582\n",
            "Epoch 63/100\n",
            "102/102 [==============================] - 1s 7ms/step - loss: 0.8639 - accuracy: 0.6908\n",
            "Epoch 64/100\n",
            "102/102 [==============================] - 1s 7ms/step - loss: 0.8126 - accuracy: 0.6952\n",
            "Epoch 65/100\n",
            "102/102 [==============================] - 1s 8ms/step - loss: 0.8448 - accuracy: 0.6916\n",
            "Epoch 66/100\n",
            "102/102 [==============================] - 1s 7ms/step - loss: 0.9129 - accuracy: 0.6827\n",
            "Epoch 67/100\n",
            "102/102 [==============================] - 1s 8ms/step - loss: 0.8422 - accuracy: 0.6943\n",
            "Epoch 68/100\n",
            "102/102 [==============================] - 1s 8ms/step - loss: 0.8771 - accuracy: 0.6983\n",
            "Epoch 69/100\n",
            "102/102 [==============================] - 1s 7ms/step - loss: 0.8261 - accuracy: 0.7154\n",
            "Epoch 70/100\n",
            "102/102 [==============================] - 1s 8ms/step - loss: 0.9152 - accuracy: 0.7067\n",
            "Epoch 71/100\n",
            "102/102 [==============================] - 1s 8ms/step - loss: 0.7852 - accuracy: 0.7305\n",
            "Epoch 72/100\n",
            "102/102 [==============================] - 1s 8ms/step - loss: 0.8582 - accuracy: 0.7085\n",
            "Epoch 73/100\n",
            "102/102 [==============================] - 1s 8ms/step - loss: 0.8183 - accuracy: 0.7229\n",
            "Epoch 74/100\n",
            "102/102 [==============================] - 1s 8ms/step - loss: 0.9086 - accuracy: 0.7119\n",
            "Epoch 75/100\n",
            "102/102 [==============================] - 1s 8ms/step - loss: 0.7662 - accuracy: 0.7144\n",
            "Epoch 76/100\n",
            "102/102 [==============================] - 1s 7ms/step - loss: 0.8567 - accuracy: 0.7217\n",
            "Epoch 77/100\n",
            "102/102 [==============================] - 1s 8ms/step - loss: 0.8061 - accuracy: 0.7399\n",
            "Epoch 78/100\n",
            "102/102 [==============================] - 1s 8ms/step - loss: 0.7365 - accuracy: 0.7391\n",
            "Epoch 79/100\n",
            "102/102 [==============================] - 1s 7ms/step - loss: 0.6870 - accuracy: 0.7516\n",
            "Epoch 80/100\n",
            "102/102 [==============================] - 1s 8ms/step - loss: 0.7650 - accuracy: 0.7295\n",
            "Epoch 81/100\n",
            "102/102 [==============================] - 1s 8ms/step - loss: 0.9031 - accuracy: 0.7223\n",
            "Epoch 82/100\n",
            "102/102 [==============================] - 1s 8ms/step - loss: 0.7821 - accuracy: 0.7478\n",
            "Epoch 83/100\n",
            "102/102 [==============================] - 1s 7ms/step - loss: 0.8143 - accuracy: 0.7209\n",
            "Epoch 84/100\n",
            "102/102 [==============================] - 1s 7ms/step - loss: 0.7382 - accuracy: 0.7449\n",
            "Epoch 85/100\n",
            "102/102 [==============================] - 1s 7ms/step - loss: 0.6497 - accuracy: 0.7847\n",
            "Epoch 86/100\n",
            "102/102 [==============================] - 1s 8ms/step - loss: 0.6711 - accuracy: 0.7688\n",
            "Epoch 87/100\n",
            "102/102 [==============================] - 1s 8ms/step - loss: 0.6962 - accuracy: 0.7582\n",
            "Epoch 88/100\n",
            "102/102 [==============================] - 1s 8ms/step - loss: 0.7022 - accuracy: 0.7671\n",
            "Epoch 89/100\n",
            "102/102 [==============================] - 1s 8ms/step - loss: 0.6950 - accuracy: 0.7643\n",
            "Epoch 90/100\n",
            "102/102 [==============================] - 1s 8ms/step - loss: 0.6814 - accuracy: 0.7680\n",
            "Epoch 91/100\n",
            "102/102 [==============================] - 1s 7ms/step - loss: 0.6992 - accuracy: 0.7596\n",
            "Epoch 92/100\n",
            "102/102 [==============================] - 1s 7ms/step - loss: 0.6992 - accuracy: 0.7648\n",
            "Epoch 93/100\n",
            "102/102 [==============================] - 1s 8ms/step - loss: 0.8132 - accuracy: 0.7420\n",
            "Epoch 94/100\n",
            "102/102 [==============================] - 1s 8ms/step - loss: 0.7323 - accuracy: 0.7532\n",
            "Epoch 95/100\n",
            "102/102 [==============================] - 1s 8ms/step - loss: 0.6604 - accuracy: 0.7629\n",
            "Epoch 96/100\n",
            "102/102 [==============================] - 1s 8ms/step - loss: 0.7507 - accuracy: 0.7603\n",
            "Epoch 97/100\n",
            "102/102 [==============================] - 1s 8ms/step - loss: 0.6313 - accuracy: 0.7761\n",
            "Epoch 98/100\n",
            "102/102 [==============================] - 1s 7ms/step - loss: 0.6195 - accuracy: 0.7876\n",
            "Epoch 99/100\n",
            "102/102 [==============================] - 1s 8ms/step - loss: 0.6729 - accuracy: 0.7777\n",
            "Epoch 100/100\n",
            "102/102 [==============================] - 1s 8ms/step - loss: 0.5895 - accuracy: 0.7957\n"
          ],
          "name": "stdout"
        }
      ]
    },
    {
      "cell_type": "code",
      "metadata": {
        "colab": {
          "base_uri": "https://localhost:8080/",
          "height": 295
        },
        "id": "pQCnPR1IaKOw",
        "outputId": "67390e51-aa30-4c4d-ea17-2aef33c7660d"
      },
      "source": [
        "import matplotlib.pyplot as plt\n",
        "history_dict = history.history\n",
        "loss_values = history_dict['loss']\n",
        "epochs = range(1,len(loss_values)+1)\n",
        "plt.plot(epochs, loss_values, 'bo', label='Training loss')\n",
        "plt.title('Loss and Epocs')\n",
        "plt.xlabel('Epochs')\n",
        "plt.ylabel('Loss')\n",
        "plt.legend()\n",
        "plt.show()"
      ],
      "execution_count": 92,
      "outputs": [
        {
          "output_type": "display_data",
          "data": {
            "image/png": "[encoded data removed]",
            "text/plain": [
              "<Figure size 432x288 with 1 Axes>"
            ]
          },
          "metadata": {
            "tags": [],
            "needs_background": "light"
          }
        }
      ]
    },
    {
      "cell_type": "code",
      "metadata": {
        "colab": {
          "base_uri": "https://localhost:8080/",
          "height": 295
        },
        "id": "zklLlv87a4Ss",
        "outputId": "0597ad87-c897-4f49-c47f-3fe2982ab14d"
      },
      "source": [
        "import matplotlib.pyplot as plt\n",
        "history_dict = history.history\n",
        "loss_values = history_dict['accuracy']\n",
        "epochs = range(1,len(loss_values)+1)\n",
        "plt.plot(epochs, loss_values, 'bo', label='Training loss')\n",
        "plt.title('Accuracy and Epocs')\n",
        "plt.xlabel('Epochs')\n",
        "plt.ylabel('Loss')\n",
        "plt.legend()\n",
        "plt.show()"
      ],
      "execution_count": 93,
      "outputs": [
        {
          "output_type": "display_data",
          "data": {
            "image/png": "[encoded data removed]",
            "text/plain": [
              "<Figure size 432x288 with 1 Axes>"
            ]
          },
          "metadata": {
            "tags": [],
            "needs_background": "light"
          }
        }
      ]
    },
    {
      "cell_type": "code",
      "metadata": {
        "colab": {
          "base_uri": "https://localhost:8080/"
        },
        "id": "9gr9TN6_XygN",
        "outputId": "b046eaec-31a8-4bea-ceb7-4e28adf68225"
      },
      "source": [
        "test_loss, test_acc = network.evaluate(test_data, test_targets)"
      ],
      "execution_count": 89,
      "outputs": [
        {
          "output_type": "stream",
          "text": [
            "34/34 [==============================] - 0s 3ms/step - loss: 4.1242 - accuracy: 0.2794\n"
          ],
          "name": "stdout"
        }
      ]
    }
  ]
}