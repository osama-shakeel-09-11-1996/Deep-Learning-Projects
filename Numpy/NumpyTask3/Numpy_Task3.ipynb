{
 "cells": [
  {
   "cell_type": "markdown",
   "metadata": {},
   "source": [
    "# Election Results\n",
    "\n",
    "You’re part of an impartial research group that conducts phone surveys prior to local elections. During this election season, the group conducted a survey to determine how many people would vote for I_Khan vs. S_Sharif in the presidential election.\n",
    "\n",
    "Now that the election has occurred, your group wants to compare the survey responses to the actual results.\n",
    "\n",
    "Was your survey a good indicator? Let’s find out!"
   ]
  },
  {
   "cell_type": "markdown",
   "metadata": {},
   "source": [
    "# PROJECT STEPS"
   ]
  },
  {
   "cell_type": "markdown",
   "metadata": {},
   "source": [
    "1.First, import numpy and matplotlib."
   ]
  },
  {
   "cell_type": "code",
   "execution_count": 1,
   "metadata": {},
   "outputs": [],
   "source": [
    "#type your code here\n",
    "import numpy as np\n",
    "import matplotlib.pyplot as plt"
   ]
  },
  {
   "cell_type": "markdown",
   "metadata": {},
   "source": [
    "2.There is a list given of the different survey responses.\n",
    "\n",
    "Calculate the number of people who answered ‘I_Khan’ and save the answer to the variable total_Khan.\n",
    "\n",
    "Print the variable to the terminal to see its value."
   ]
  },
  {
   "cell_type": "code",
   "execution_count": 2,
   "metadata": {},
   "outputs": [
    {
     "data": {
      "text/plain": [
       "33"
      ]
     },
     "execution_count": 2,
     "metadata": {},
     "output_type": "execute_result"
    }
   ],
   "source": [
    "survey_responses = ['Ceballos', 'Kerrigan', 'Ceballos', 'Ceballos', 'Ceballos','Kerrigan',\n",
    "                    'Kerrigan', 'Ceballos', 'Ceballos', 'Ceballos', 'Kerrigan', 'Kerrigan',\n",
    "                    'Ceballos', 'Ceballos', 'Kerrigan', 'Kerrigan','Ceballos', 'Ceballos', \n",
    "                    'Kerrigan', 'Kerrigan', 'Kerrigan', 'Kerrigan', 'Kerrigan', 'Kerrigan', \n",
    "                    'Ceballos', 'Ceballos', 'Ceballos', 'Ceballos', 'Ceballos', 'Ceballos',\n",
    "                    'Kerrigan', 'Kerrigan', 'Ceballos', 'Ceballos', 'Ceballos', 'Kerrigan',\n",
    "                    'Kerrigan', 'Ceballos', 'Ceballos', 'Kerrigan', 'Kerrigan', 'Ceballos', \n",
    "                    'Ceballos', 'Kerrigan', 'Kerrigan', 'Kerrigan', 'Kerrigan', 'Kerrigan',\n",
    "                    'Kerrigan', 'Ceballos','Kerrigan', 'Kerrigan', 'Ceballos', 'Ceballos', \n",
    "                    'Ceballos', 'Kerrigan', 'Kerrigan', 'Ceballos', 'Ceballos', 'Kerrigan', \n",
    "                    'Kerrigan', 'Ceballos', 'Ceballos', 'Kerrigan', 'Kerrigan', 'Kerrigan', \n",
    "                    'Kerrigan', 'Kerrigan', 'Kerrigan', 'Ceballos']\n",
    "\n",
    "survey = np.array(survey_responses)\n",
    "survey[survey=='Ceballos']= 'I_Khan'\n",
    "survey[survey=='Kerrigan']= 'S_Sharif'\n",
    "survey\n",
    "#type your code here\n",
    "total_Khan = np.sum(survey=='I_Khan')\n",
    "total_Khan"
   ]
  },
  {
   "cell_type": "markdown",
   "metadata": {},
   "source": [
    "3.Calculate the percentage of people in the survey who voted for I_Khan and save it to the variable percentage_I_Khan.\n",
    "\n",
    "Print the variable to the terminal to see its value."
   ]
  },
  {
   "cell_type": "code",
   "execution_count": 35,
   "metadata": {},
   "outputs": [
    {
     "data": {
      "text/plain": [
       "47.14285714285714"
      ]
     },
     "execution_count": 35,
     "metadata": {},
     "output_type": "execute_result"
    }
   ],
   "source": [
    "#type your code here\n",
    "total_responses = survey.size\n",
    "percentage_I_Khan = total_Khan/total_responses*100      # mean is 0.47\n",
    "percentage_I_Khan"
   ]
  },
  {
   "cell_type": "markdown",
   "metadata": {},
   "source": [
    "4.In the real election, 54% of the 10,000 town population voted for I_Khan. Your supervisors are concerned because this is a very different outcome than what the poll predicted. They want you to determine if there is something wrong with the poll or if given the sample size, it was an entirely reasonable result.\n",
    "\n",
    "Generate a binomial distribution that takes the number of total survey responses, the actual success rate, and the size of the town’s population as its parameters. Then divide the distribution by the number of survey responses. Save your calculation to the variable possible_surveys.\n",
    "\n",
    "######### hint###########\n",
    "possible_surveys = \n",
    "np.random.binomial(total of survey responses, the actual success rate,and the size of the town’s population ) "
   ]
  },
  {
   "cell_type": "code",
   "execution_count": 58,
   "metadata": {},
   "outputs": [
    {
     "data": {
      "text/plain": [
       "array([0.42857143, 0.61428571, 0.61428571, 0.61428571, 0.55714286,\n",
       "       0.52857143, 0.62857143, 0.61428571, 0.61428571, 0.48571429,\n",
       "       0.5       , 0.64285714, 0.5       , 0.58571429, 0.61428571,\n",
       "       0.51428571, 0.52857143, 0.58571429, 0.52857143, 0.47142857,\n",
       "       0.52857143, 0.7       , 0.45714286, 0.47142857, 0.6       ,\n",
       "       0.52857143, 0.54285714, 0.61428571, 0.58571429, 0.52857143,\n",
       "       0.57142857, 0.54285714, 0.5       , 0.57142857, 0.5       ,\n",
       "       0.55714286, 0.45714286, 0.48571429, 0.48571429, 0.57142857,\n",
       "       0.58571429, 0.6       , 0.42857143, 0.62857143, 0.61428571,\n",
       "       0.48571429, 0.48571429, 0.47142857, 0.58571429, 0.52857143,\n",
       "       0.51428571, 0.57142857, 0.52857143, 0.62857143, 0.41428571,\n",
       "       0.42857143, 0.52857143, 0.58571429, 0.51428571, 0.57142857,\n",
       "       0.52857143, 0.58571429, 0.54285714, 0.54285714, 0.57142857,\n",
       "       0.54285714, 0.5       , 0.58571429, 0.54285714, 0.48571429,\n",
       "       0.62857143, 0.48571429, 0.57142857, 0.52857143, 0.5       ,\n",
       "       0.41428571, 0.51428571, 0.6       , 0.62857143, 0.52857143,\n",
       "       0.58571429, 0.55714286, 0.58571429, 0.57142857, 0.62857143,\n",
       "       0.45714286, 0.45714286, 0.5       , 0.68571429, 0.47142857,\n",
       "       0.42857143, 0.47142857, 0.55714286, 0.62857143, 0.58571429,\n",
       "       0.5       , 0.57142857, 0.57142857, 0.51428571, 0.57142857,\n",
       "       0.58571429, 0.54285714, 0.6       , 0.47142857, 0.52857143,\n",
       "       0.55714286, 0.52857143, 0.48571429, 0.57142857, 0.55714286,\n",
       "       0.6       , 0.57142857, 0.64285714, 0.55714286, 0.5       ,\n",
       "       0.51428571, 0.47142857, 0.61428571, 0.55714286, 0.5       ,\n",
       "       0.51428571, 0.57142857, 0.41428571, 0.5       , 0.58571429,\n",
       "       0.61428571, 0.52857143, 0.5       , 0.5       , 0.55714286,\n",
       "       0.41428571, 0.51428571, 0.44285714, 0.6       , 0.51428571,\n",
       "       0.61428571, 0.51428571, 0.5       , 0.5       , 0.64285714,\n",
       "       0.52857143, 0.51428571, 0.55714286, 0.47142857, 0.58571429,\n",
       "       0.47142857, 0.51428571, 0.5       , 0.54285714, 0.57142857,\n",
       "       0.52857143, 0.52857143, 0.52857143, 0.54285714, 0.47142857,\n",
       "       0.51428571, 0.6       , 0.57142857, 0.58571429, 0.44285714,\n",
       "       0.45714286, 0.47142857, 0.58571429, 0.48571429, 0.54285714,\n",
       "       0.47142857, 0.48571429, 0.51428571, 0.58571429, 0.72857143,\n",
       "       0.52857143, 0.61428571, 0.51428571, 0.51428571, 0.61428571,\n",
       "       0.6       , 0.57142857, 0.48571429, 0.51428571, 0.64285714,\n",
       "       0.41428571, 0.54285714, 0.52857143, 0.55714286, 0.62857143,\n",
       "       0.58571429, 0.52857143, 0.52857143, 0.51428571, 0.57142857,\n",
       "       0.51428571, 0.52857143, 0.54285714, 0.61428571, 0.5       ,\n",
       "       0.6       , 0.38571429, 0.52857143, 0.54285714, 0.58571429,\n",
       "       0.52857143, 0.54285714, 0.71428571, 0.57142857, 0.57142857,\n",
       "       0.64285714, 0.45714286, 0.47142857, 0.5       , 0.62857143,\n",
       "       0.47142857, 0.58571429, 0.6       , 0.6       , 0.51428571,\n",
       "       0.51428571, 0.57142857, 0.51428571, 0.62857143, 0.58571429,\n",
       "       0.62857143, 0.64285714, 0.55714286, 0.51428571, 0.58571429,\n",
       "       0.5       , 0.57142857, 0.55714286, 0.52857143, 0.47142857,\n",
       "       0.47142857, 0.58571429, 0.58571429, 0.57142857, 0.61428571,\n",
       "       0.52857143, 0.61428571, 0.52857143, 0.38571429, 0.51428571,\n",
       "       0.54285714, 0.58571429, 0.61428571, 0.54285714, 0.65714286,\n",
       "       0.47142857, 0.65714286, 0.54285714, 0.55714286, 0.52857143,\n",
       "       0.57142857, 0.54285714, 0.48571429, 0.5       , 0.47142857,\n",
       "       0.57142857, 0.48571429, 0.57142857, 0.58571429, 0.58571429,\n",
       "       0.42857143, 0.6       , 0.5       , 0.55714286, 0.54285714,\n",
       "       0.58571429, 0.52857143, 0.55714286, 0.48571429, 0.52857143,\n",
       "       0.54285714, 0.54285714, 0.6       , 0.58571429, 0.48571429,\n",
       "       0.41428571, 0.61428571, 0.44285714, 0.61428571, 0.52857143,\n",
       "       0.64285714, 0.44285714, 0.54285714, 0.47142857, 0.61428571,\n",
       "       0.51428571, 0.54285714, 0.47142857, 0.57142857, 0.51428571,\n",
       "       0.5       , 0.5       , 0.62857143, 0.67142857, 0.57142857,\n",
       "       0.64285714, 0.55714286, 0.52857143, 0.48571429, 0.54285714,\n",
       "       0.52857143, 0.6       , 0.45714286, 0.51428571, 0.5       ,\n",
       "       0.57142857, 0.52857143, 0.52857143, 0.57142857, 0.61428571,\n",
       "       0.5       , 0.61428571, 0.54285714, 0.51428571, 0.52857143,\n",
       "       0.44285714, 0.51428571, 0.57142857, 0.54285714, 0.58571429,\n",
       "       0.47142857, 0.52857143, 0.48571429, 0.48571429, 0.65714286,\n",
       "       0.45714286, 0.52857143, 0.57142857, 0.6       , 0.5       ,\n",
       "       0.5       , 0.47142857, 0.51428571, 0.52857143, 0.5       ,\n",
       "       0.4       , 0.54285714, 0.51428571, 0.55714286, 0.52857143,\n",
       "       0.45714286, 0.51428571, 0.51428571, 0.52857143, 0.5       ,\n",
       "       0.62857143, 0.55714286, 0.48571429, 0.54285714, 0.58571429,\n",
       "       0.58571429, 0.55714286, 0.54285714, 0.6       , 0.62857143,\n",
       "       0.52857143, 0.51428571, 0.65714286, 0.47142857, 0.54285714,\n",
       "       0.52857143, 0.48571429, 0.5       , 0.57142857, 0.55714286,\n",
       "       0.42857143, 0.52857143, 0.6       , 0.5       , 0.54285714,\n",
       "       0.45714286, 0.5       , 0.57142857, 0.62857143, 0.6       ,\n",
       "       0.47142857, 0.52857143, 0.61428571, 0.61428571, 0.58571429,\n",
       "       0.64285714, 0.7       , 0.47142857, 0.48571429, 0.55714286,\n",
       "       0.5       , 0.6       , 0.58571429, 0.55714286, 0.57142857,\n",
       "       0.45714286, 0.57142857, 0.58571429, 0.54285714, 0.48571429,\n",
       "       0.5       , 0.61428571, 0.6       , 0.51428571, 0.54285714,\n",
       "       0.5       , 0.51428571, 0.58571429, 0.54285714, 0.58571429,\n",
       "       0.52857143, 0.5       , 0.6       , 0.58571429, 0.5       ,\n",
       "       0.55714286, 0.61428571, 0.55714286, 0.51428571, 0.47142857,\n",
       "       0.55714286, 0.61428571, 0.62857143, 0.48571429, 0.54285714,\n",
       "       0.48571429, 0.38571429, 0.62857143, 0.47142857, 0.5       ,\n",
       "       0.54285714, 0.5       , 0.45714286, 0.55714286, 0.58571429,\n",
       "       0.61428571, 0.52857143, 0.65714286, 0.48571429, 0.58571429,\n",
       "       0.52857143, 0.51428571, 0.58571429, 0.57142857, 0.57142857,\n",
       "       0.57142857, 0.47142857, 0.51428571, 0.6       , 0.47142857,\n",
       "       0.58571429, 0.41428571, 0.51428571, 0.52857143, 0.4       ,\n",
       "       0.44285714, 0.47142857, 0.58571429, 0.55714286, 0.52857143,\n",
       "       0.58571429, 0.51428571, 0.6       , 0.64285714, 0.58571429,\n",
       "       0.5       , 0.45714286, 0.47142857, 0.45714286, 0.54285714,\n",
       "       0.47142857, 0.54285714, 0.5       , 0.54285714, 0.54285714,\n",
       "       0.6       , 0.47142857, 0.54285714, 0.52857143, 0.5       ,\n",
       "       0.42857143, 0.51428571, 0.6       , 0.61428571, 0.68571429,\n",
       "       0.52857143, 0.54285714, 0.61428571, 0.52857143, 0.48571429,\n",
       "       0.6       , 0.52857143, 0.58571429, 0.6       , 0.54285714,\n",
       "       0.61428571, 0.55714286, 0.7       , 0.57142857, 0.61428571,\n",
       "       0.5       , 0.62857143, 0.55714286, 0.45714286, 0.48571429,\n",
       "       0.52857143, 0.54285714, 0.58571429, 0.6       , 0.58571429,\n",
       "       0.51428571, 0.58571429, 0.41428571, 0.52857143, 0.6       ,\n",
       "       0.44285714, 0.48571429, 0.55714286, 0.47142857, 0.44285714,\n",
       "       0.55714286, 0.58571429, 0.51428571, 0.52857143, 0.35714286,\n",
       "       0.42857143, 0.58571429, 0.58571429, 0.41428571, 0.52857143,\n",
       "       0.52857143, 0.61428571, 0.54285714, 0.58571429, 0.54285714,\n",
       "       0.62857143, 0.58571429, 0.62857143, 0.52857143, 0.5       ,\n",
       "       0.52857143, 0.57142857, 0.55714286, 0.64285714, 0.62857143,\n",
       "       0.58571429, 0.44285714, 0.48571429, 0.62857143, 0.61428571,\n",
       "       0.58571429, 0.62857143, 0.5       , 0.55714286, 0.51428571,\n",
       "       0.57142857, 0.42857143, 0.62857143, 0.5       , 0.55714286,\n",
       "       0.62857143, 0.52857143, 0.55714286, 0.58571429, 0.42857143,\n",
       "       0.5       , 0.48571429, 0.57142857, 0.47142857, 0.42857143,\n",
       "       0.52857143, 0.45714286, 0.47142857, 0.52857143, 0.54285714,\n",
       "       0.52857143, 0.58571429, 0.52857143, 0.54285714, 0.58571429,\n",
       "       0.55714286, 0.61428571, 0.61428571, 0.58571429, 0.58571429,\n",
       "       0.54285714, 0.48571429, 0.48571429, 0.41428571, 0.61428571,\n",
       "       0.51428571, 0.55714286, 0.5       , 0.54285714, 0.48571429,\n",
       "       0.58571429, 0.38571429, 0.47142857, 0.6       , 0.47142857,\n",
       "       0.65714286, 0.64285714, 0.47142857, 0.57142857, 0.57142857,\n",
       "       0.6       , 0.54285714, 0.55714286, 0.51428571, 0.58571429,\n",
       "       0.52857143, 0.58571429, 0.61428571, 0.45714286, 0.57142857,\n",
       "       0.71428571, 0.44285714, 0.51428571, 0.62857143, 0.51428571,\n",
       "       0.51428571, 0.48571429, 0.6       , 0.62857143, 0.52857143,\n",
       "       0.55714286, 0.47142857, 0.67142857, 0.51428571, 0.64285714,\n",
       "       0.5       , 0.52857143, 0.52857143, 0.51428571, 0.62857143,\n",
       "       0.58571429, 0.57142857, 0.62857143, 0.55714286, 0.51428571,\n",
       "       0.51428571, 0.54285714, 0.64285714, 0.55714286, 0.52857143,\n",
       "       0.5       , 0.52857143, 0.6       , 0.52857143, 0.62857143,\n",
       "       0.51428571, 0.64285714, 0.6       , 0.54285714, 0.58571429,\n",
       "       0.58571429, 0.57142857, 0.68571429, 0.7       , 0.5       ,\n",
       "       0.45714286, 0.54285714, 0.41428571, 0.52857143, 0.5       ,\n",
       "       0.55714286, 0.6       , 0.5       , 0.52857143, 0.54285714,\n",
       "       0.58571429, 0.48571429, 0.61428571, 0.47142857, 0.62857143,\n",
       "       0.57142857, 0.44285714, 0.6       , 0.62857143, 0.62857143,\n",
       "       0.52857143, 0.55714286, 0.64285714, 0.5       , 0.52857143,\n",
       "       0.48571429, 0.55714286, 0.62857143, 0.62857143, 0.55714286,\n",
       "       0.41428571, 0.51428571, 0.5       , 0.5       , 0.6       ,\n",
       "       0.64285714, 0.64285714, 0.55714286, 0.5       , 0.55714286,\n",
       "       0.54285714, 0.6       , 0.45714286, 0.55714286, 0.44285714,\n",
       "       0.61428571, 0.58571429, 0.44285714, 0.48571429, 0.58571429,\n",
       "       0.55714286, 0.58571429, 0.61428571, 0.48571429, 0.57142857,\n",
       "       0.64285714, 0.58571429, 0.44285714, 0.55714286, 0.48571429,\n",
       "       0.5       , 0.51428571, 0.61428571, 0.52857143, 0.57142857,\n",
       "       0.6       , 0.6       , 0.47142857, 0.48571429, 0.55714286,\n",
       "       0.48571429, 0.64285714, 0.5       , 0.52857143, 0.51428571,\n",
       "       0.45714286, 0.44285714, 0.54285714, 0.48571429, 0.61428571,\n",
       "       0.54285714, 0.51428571, 0.64285714, 0.57142857, 0.62857143,\n",
       "       0.44285714, 0.62857143, 0.57142857, 0.48571429, 0.52857143,\n",
       "       0.57142857, 0.54285714, 0.54285714, 0.48571429, 0.5       ,\n",
       "       0.6       , 0.57142857, 0.57142857, 0.57142857, 0.6       ,\n",
       "       0.6       , 0.47142857, 0.58571429, 0.54285714, 0.57142857,\n",
       "       0.6       , 0.45714286, 0.5       , 0.51428571, 0.47142857,\n",
       "       0.54285714, 0.61428571, 0.54285714, 0.61428571, 0.52857143,\n",
       "       0.6       , 0.51428571, 0.58571429, 0.6       , 0.45714286,\n",
       "       0.62857143, 0.57142857, 0.45714286, 0.5       , 0.48571429,\n",
       "       0.51428571, 0.51428571, 0.57142857, 0.5       , 0.55714286,\n",
       "       0.51428571, 0.55714286, 0.52857143, 0.54285714, 0.51428571,\n",
       "       0.6       , 0.58571429, 0.52857143, 0.61428571, 0.61428571,\n",
       "       0.52857143, 0.65714286, 0.48571429, 0.38571429, 0.62857143,\n",
       "       0.52857143, 0.37142857, 0.6       , 0.61428571, 0.58571429,\n",
       "       0.61428571, 0.54285714, 0.54285714, 0.48571429, 0.45714286,\n",
       "       0.44285714, 0.57142857, 0.5       , 0.55714286, 0.48571429,\n",
       "       0.61428571, 0.54285714, 0.6       , 0.54285714, 0.57142857,\n",
       "       0.64285714, 0.52857143, 0.45714286, 0.47142857, 0.52857143,\n",
       "       0.57142857, 0.65714286, 0.61428571, 0.48571429, 0.48571429,\n",
       "       0.51428571, 0.52857143, 0.52857143, 0.58571429, 0.52857143,\n",
       "       0.52857143, 0.51428571, 0.6       , 0.47142857, 0.52857143,\n",
       "       0.4       , 0.54285714, 0.51428571, 0.57142857, 0.48571429,\n",
       "       0.48571429, 0.58571429, 0.6       , 0.57142857, 0.57142857,\n",
       "       0.55714286, 0.51428571, 0.54285714, 0.58571429, 0.44285714,\n",
       "       0.44285714, 0.48571429, 0.52857143, 0.45714286, 0.6       ,\n",
       "       0.48571429, 0.47142857, 0.51428571, 0.58571429, 0.5       ,\n",
       "       0.65714286, 0.61428571, 0.41428571, 0.65714286, 0.47142857,\n",
       "       0.45714286, 0.58571429, 0.55714286, 0.62857143, 0.48571429,\n",
       "       0.58571429, 0.62857143, 0.57142857, 0.52857143, 0.5       ,\n",
       "       0.42857143, 0.67142857, 0.6       , 0.52857143, 0.57142857,\n",
       "       0.5       , 0.58571429, 0.5       , 0.47142857, 0.42857143,\n",
       "       0.64285714, 0.55714286, 0.47142857, 0.58571429, 0.52857143,\n",
       "       0.5       , 0.52857143, 0.54285714, 0.51428571, 0.47142857,\n",
       "       0.51428571, 0.51428571, 0.51428571, 0.58571429, 0.51428571,\n",
       "       0.54285714, 0.51428571, 0.45714286, 0.45714286, 0.5       ,\n",
       "       0.5       , 0.57142857, 0.67142857, 0.5       , 0.42857143,\n",
       "       0.47142857, 0.61428571, 0.6       , 0.64285714, 0.52857143,\n",
       "       0.52857143, 0.45714286, 0.58571429, 0.54285714, 0.62857143,\n",
       "       0.5       , 0.57142857, 0.55714286, 0.58571429, 0.55714286,\n",
       "       0.67142857, 0.62857143, 0.52857143, 0.58571429, 0.55714286,\n",
       "       0.58571429, 0.62857143, 0.45714286, 0.48571429, 0.52857143,\n",
       "       0.54285714, 0.51428571, 0.47142857, 0.57142857, 0.5       ,\n",
       "       0.58571429, 0.54285714, 0.54285714, 0.47142857, 0.48571429,\n",
       "       0.5       , 0.54285714, 0.62857143, 0.51428571, 0.57142857,\n",
       "       0.44285714, 0.48571429, 0.51428571, 0.51428571, 0.55714286,\n",
       "       0.5       , 0.57142857, 0.58571429, 0.45714286, 0.58571429,\n",
       "       0.57142857, 0.57142857, 0.61428571, 0.62857143, 0.51428571,\n",
       "       0.57142857, 0.57142857, 0.6       , 0.57142857, 0.52857143,\n",
       "       0.51428571, 0.57142857, 0.57142857, 0.45714286, 0.52857143,\n",
       "       0.55714286, 0.48571429, 0.64285714, 0.54285714, 0.6       ,\n",
       "       0.67142857, 0.5       , 0.6       , 0.51428571, 0.58571429,\n",
       "       0.47142857, 0.52857143, 0.52857143, 0.57142857, 0.5       ,\n",
       "       0.52857143, 0.52857143, 0.58571429, 0.54285714, 0.51428571])"
      ]
     },
     "execution_count": 58,
     "metadata": {},
     "output_type": "execute_result"
    }
   ],
   "source": [
    "#type your code here\n",
    "possible_surveys = np.random.binomial(total_responses,0.54,1000)/total_responses\n",
    "possible_surveys"
   ]
  },
  {
   "cell_type": "markdown",
   "metadata": {},
   "source": [
    "\n",
    "      #######Optional########\n",
    "5.By using matplotlib Plot a histogram of possible_surveys with a range of 0-1 and 20 bins.\n"
   ]
  },
  {
   "cell_type": "code",
   "execution_count": 31,
   "metadata": {},
   "outputs": [
    {
     "data": {
      "image/png": "[encoded data removed]",
      "text/plain": [
       "<Figure size 432x288 with 1 Axes>"
      ]
     },
     "metadata": {
      "needs_background": "light"
     },
     "output_type": "display_data"
    }
   ],
   "source": [
    "#type your code here\n",
    "plt.hist(possible_surveys, range=(0,1), bins=20)\n",
    "plt.show()"
   ]
  },
  {
   "cell_type": "markdown",
   "metadata": {},
   "source": [
    "6.As we saw, 47% of people we surveyed said they would vote for I_Khan, but 54% of people voted for I_Khan in the actual election.\n",
    "\n",
    "Calculate the percentage of surveys that could have an outcome of I_Khan receiving less than 50% of the vote and save it to the variable I_Khan_loss_surveys.\n",
    "\n",
    "Print the variable to the terminal."
   ]
  },
  {
   "cell_type": "code",
   "execution_count": 63,
   "metadata": {},
   "outputs": [
    {
     "data": {
      "text/plain": [
       "19.774148806362803"
      ]
     },
     "execution_count": 63,
     "metadata": {},
     "output_type": "execute_result"
    }
   ],
   "source": [
    "#type your code here\n",
    "# standard deviation as sd\n",
    "sd = np.std(possible_surveys)\n",
    "# calculate percentage of surveys\n",
    "I_Khan_loss_surveys = (0.54-0.47)/sd*np.sqrt(2/total_responses)*100\n",
    "I_Khan_loss_surveys"
   ]
  },
  {
   "cell_type": "markdown",
   "metadata": {},
   "source": [
    "7.With this current poll, about 20% of the time a survey output would predict S_Sharif winning, even if I_Khan won the actual election.\n",
    "\n",
    "Your co-worker points out that your poll would be more accurate if it had more responders.\n",
    "\n",
    "Generate another binomial distribution, but this time, see what would happen if you had instead surveyed 7,000 people. Divide the distribution by the size of the survey and save your findings to large_survey.\n"
   ]
  },
  {
   "cell_type": "code",
   "execution_count": 53,
   "metadata": {},
   "outputs": [
    {
     "data": {
      "text/plain": [
       "array([0.54285714, 0.52857143, 0.42857143, ..., 0.54285714, 0.5       ,\n",
       "       0.48571429])"
      ]
     },
     "execution_count": 53,
     "metadata": {},
     "output_type": "execute_result"
    }
   ],
   "source": [
    "#type your code here\n",
    "large_survey = np.random.binomial(total_responses,0.54,7000)/total_responses\n",
    "large_survey"
   ]
  },
  {
   "cell_type": "markdown",
   "metadata": {},
   "source": [
    "8.Now, recalculate the percentage of surveys that would have an outcome of I_Khan losing and save it to the variable I_Khan_loss_new, and print the value to the terminal.\n",
    "\n",
    "What do we notice about this new value?\n",
    "\n",
    "What advice would you give to your supervisors about predicting results from surveys?\n"
   ]
  },
  {
   "cell_type": "code",
   "execution_count": 68,
   "metadata": {},
   "outputs": [
    {
     "data": {
      "text/plain": [
       "100.51720474840728"
      ]
     },
     "execution_count": 68,
     "metadata": {},
     "output_type": "execute_result"
    }
   ],
   "source": [
    "#type your code here\n",
    "# second standard deviation\n",
    "sd2 = np.std(large_survey)\n",
    "(0.54-0.19)/sd2*np.sqrt(2/total_responses)*100"
   ]
  },
  {
   "cell_type": "code",
   "execution_count": null,
   "metadata": {},
   "outputs": [],
   "source": []
  }
 ],
 "metadata": {
  "kernelspec": {
   "display_name": "Python 3",
   "language": "python",
   "name": "python3"
  },
  "language_info": {
   "codemirror_mode": {
    "name": "ipython",
    "version": 3
   },
   "file_extension": ".py",
   "mimetype": "text/x-python",
   "name": "python",
   "nbconvert_exporter": "python",
   "pygments_lexer": "ipython3",
   "version": "3.8.5"
  }
 },
 "nbformat": 4,
 "nbformat_minor": 2
}
